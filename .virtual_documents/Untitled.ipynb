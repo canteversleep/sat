import pandas as pd
import re

def parse_log(filename):
    # Pattern to match the relevant log lines with metrics
    pattern = r'(\d{2}:\d{2}:\d{2}) INFO (\(Eval\)|Iter:\s+(\d+)),\s+Acc:\s+([\d.]+),\s+Flips:\s+([\d.]+) \(med\) / ([\d.]+) \(mean\) / ([\d.]+) \(max\)'
    
    # Data lists to collect the parsed values
    data = []
    
    # Open and read the log file
    with open(filename, 'r') as file:
        for line in file:
            match = re.search(pattern, line)
            if match:
                # Extract time, type (Eval or Iter), and the metrics
                time, type_eval_iter, iter_num, accuracy, median, mean, max_flips = match.groups()
                
                # If it's an evaluation, 'iter_num' will be None
                iter_num = int(iter_num) if iter_num else None
                accuracy = float(accuracy)
                median = float(median)
                mean = float(mean)
                max_flips = float(max_flips)
                
                # Append to the data list
                data.append({
                    'Time': time,
                    'Type': 'Eval' if 'Eval' in type_eval_iter else 'Iter',
                    'Iteration': iter_num,
                    'Accuracy': accuracy,
                    'Median Flips': median,
                    'Mean Flips': mean,
                    'Max Flips': max_flips
                })
    
    # Convert list to DataFrame
    df = pd.DataFrame(data)
    return df

# Example usage
log_data = parse_log('results/search/mixed/1noaug/train.log')
print(log_data)



import pickle
import os

def load_pickle_data(filepath):
    # Construct the full path to the pickle file
    # filepath = os.path.join(directory, filename)
    
    # Load data from the pickle file
    with open(filepath, 'rb') as file:
        data = pickle.load(file)
    
    return pd.DataFrame(data)



train_stats_noaug = load_pickle_data('./results/search/mixed/1noaug/train_stats.pkl')
eval_stats_noaug = load_pickle_data('./results/search/mixed/1noaug/eval_stats.pkl')
train_stats_aug = load_pickle_data('./results/search/mixed/1augcomp/train_stats.pkl')
eval_stats_aug = load_pickle_data('./results/search/mixed/1augcomp/eval_stats.pkl')

# Now you can use train_stats and eval_stats as needed

# print(eval_stats)


def plot_model_accuracies(train_noaug, eval_noaug, train_aug, eval_aug, window_size=10, interval=10):
    plt.figure(figsize=(10, 6))

    # Plot training accuracies
    # plt.plot(train_noaug['iter'], train_noaug['acc'], 'b--s', label='Train (No Aug)', markersize=6)
    # plt.plot(train_aug['iter'], train_aug['acc'], 'r--s', label='Train (Aug)',  markersize=6)
    train_noaug_smoothed = train_noaug['acc'].rolling(window=window_size, min_periods=1).mean()
    train_aug_smoothed = train_aug['acc'].rolling(window=window_size, min_periods=1).mean()


    eval_noaug_smoothed = eval_noaug['acc'].rolling(window=window_size, min_periods=1).mean()
    eval_aug_smoothed = eval_aug['acc'].rolling(window=window_size, min_periods=1).mean()
    plt.plot(train_noaug['iter'], train_noaug_smoothed, 'b--', label='Train (No Aug)',markevery=interval)
    plt.plot(train_aug['iter'], train_aug_smoothed, 'r--', label='Train (Aug)',markevery=interval)
    
    # Plot evaluation accuracies
    plt.plot(eval_noaug['iter'], eval_noaug_smoothed, 'b-s', label='Eval (No Aug)',markevery=interval)
    plt.plot(eval_aug['iter'], eval_aug_smoothed, 'r-s', label='Eval (Aug)', markevery=interval)

    # Adding labels and title
    plt.xlabel('Iteration', fontsize=12)
    plt.ylabel('Accuracy (%)', fontsize=12)
    # plt.title('Train and Evaluation Accuracies (Smoothed)', fontsize=14)

    # Adding a legend
    plt.legend()

    # Display grid
    plt.grid(True)

    # Show the plot
    plt.show()


import matplotlib.pyplot as plt
import seaborn as sns
plt.style.use('ggplot')
# Set the aesthetic style of the plots
# sns.set(style="whitegrid") 
# sns.set_theme(context='talk', style='whitegrid', palette='pastel', font='sans-serif', font_scale=1.1)



plot_model_accuracies(train_stats_noaug, eval_stats_noaug, train_stats_aug, eval_stats_aug)



def plot_smoothed_train_accuracies(train_noaug, train_aug, window_size=10):
    # Set the aesthetic style of the plots
    # sns.set(style="whitegrid")

    plt.figure(figsize=(10, 6))

    # Calculate the rolling mean for smoothing
 

    # Plot training accuracies with smoothing
    plt.plot(train_noaug['iter'], train_noaug_smoothed, 'b--', label='Train (No Aug)')
    plt.plot(train_aug['iter'], train_aug_smoothed, 'r--', label='Train (Aug)')

    # Adding labels and title
    plt.xlabel('Iteration', fontsize=12)
    plt.ylabel('Smoothed Accuracy (%)', fontsize=12)
    plt.title('Smoothed Training Accuracies', fontsize=14)

    # Adding a legend
    plt.legend()

    # Show the plot
    plt.show()

# Example usage:
# Assuming train_stats_noaug and train_stats_aug are already loaded
# plot_smoothed_train_accuracies(train_stats_noaug, train_stats_aug)



def plot_model_flips(train_noaug, eval_noaug, train_aug, eval_aug, window_size=10, interval=10, which='avg', ylab='Average Number of Flips to Completion'):
    plt.figure(figsize=(10, 6))

    # Plot training accuracies
    # plt.plot(train_noaug['iter'], train_noaug['acc'], 'b--s', label='Train (No Aug)', markersize=6)
    # plt.plot(train_aug['iter'], train_aug['acc'], 'r--s', label='Train (Aug)',  markersize=6)
    train_noaug_smoothed = train_noaug[which].rolling(window=window_size, min_periods=1).mean()
    train_aug_smoothed = train_aug[which].rolling(window=window_size, min_periods=1).mean()


    eval_noaug_smoothed = eval_noaug[which].rolling(window=window_size, min_periods=1).mean()
    eval_aug_smoothed = eval_aug[which].rolling(window=window_size, min_periods=1).mean()
    plt.plot(train_noaug['iter'], train_noaug_smoothed, 'b--', label='Train (No Aug)',markevery=interval)
    plt.plot(train_aug['iter'], train_aug_smoothed, 'r--', label='Train (Aug)',markevery=interval)
    
    # Plot evaluation accuracies
    plt.plot(eval_noaug['iter'], eval_noaug_smoothed, 'b-s', label='Eval (No Aug)',markevery=interval)
    plt.plot(eval_aug['iter'], eval_aug_smoothed, 'r-s', label='Eval (Aug)', markevery=interval)

    # Adding labels and title
    plt.xlabel('Iteration', fontsize=12)
    plt.ylabel(ylab, fontsize=12)
    # plt.title('Train and Evaluation Accuracies (Smoothed)', fontsize=14)

    # Adding a legend
    plt.legend()

    # Display grid
    plt.grid(True)

    # Show the plot
    plt.show()


plot_model_flips(train_stats_noaug, eval_stats_noaug, train_stats_aug, eval_stats_aug, which='max', ylab='Max Number of Flips')
