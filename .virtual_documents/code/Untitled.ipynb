!../scripts/generate_kcolor.sh



