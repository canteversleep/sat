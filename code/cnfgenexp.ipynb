{
 "cells": [
  {
   "cell_type": "code",
   "execution_count": 78,
   "id": "229200f3-0f8b-46fb-906f-47845bcd6951",
   "metadata": {},
   "outputs": [
    {
     "name": "stdout",
     "output_type": "stream",
     "text": [
      "p cnf 15 41\n",
      "1 2 3 0\n",
      "4 5 6 0\n",
      "7 8 9 0\n",
      "10 11 12 0\n",
      "13 14 15 0\n",
      "-1 -2 0\n",
      "-1 -3 0\n",
      "-2 -3 0\n",
      "-4 -5 0\n",
      "-4 -6 0\n",
      "-5 -6 0\n",
      "-7 -8 0\n",
      "-7 -9 0\n",
      "-8 -9 0\n",
      "-10 -11 0\n",
      "-10 -12 0\n",
      "-11 -12 0\n",
      "-13 -14 0\n",
      "-13 -15 0\n",
      "-14 -15 0\n",
      "-1 -4 0\n",
      "-2 -5 0\n",
      "-3 -6 0\n",
      "-1 -10 0\n",
      "-2 -11 0\n",
      "-3 -12 0\n",
      "-4 -7 0\n",
      "-5 -8 0\n",
      "-6 -9 0\n",
      "-4 -10 0\n",
      "-5 -11 0\n",
      "-6 -12 0\n",
      "-4 -13 0\n",
      "-5 -14 0\n",
      "-6 -15 0\n",
      "-7 -10 0\n",
      "-8 -11 0\n",
      "-9 -12 0\n",
      "-7 -13 0\n",
      "-8 -14 0\n",
      "-9 -15 0\n"
     ]
    }
   ],
   "source": [
    "!cat './data/id=10_n=5_p=0.5_k=3.cnf'"
   ]
  },
  {
   "cell_type": "code",
   "execution_count": 75,
   "id": "b7bcff9c-5cc3-47d9-9361-cfa3b88e75dc",
   "metadata": {},
   "outputs": [],
   "source": [
    "import os\n",
    "import pdb\n",
    "import random\n",
    "from collections import namedtuple\n",
    "\n",
    "import scipy.sparse as sparse\n",
    "import torch\n",
    "\n",
    "from cnf import CNF\n",
    "from util import DataSample, adj, adj_batch, init_edge_attr, to_sparse_tensor\n",
    "\n",
    "\n",
    "Batch = namedtuple('Batch', ['x', 'adj', 'sol'])\n",
    "SampleWrapper = namedtuple('SampleWrapper', ['ptype', 'sample'])\n",
    "\n",
    "\n",
    "def load_dir(path):\n",
    "    data = []\n",
    "    for filename in os.listdir(path):\n",
    "        name, ext = os.path.splitext(filename)\n",
    "        if ext != '.cnf':\n",
    "            continue\n",
    "        f = CNF.from_file(os.path.join(path, filename))\n",
    "        if name.startswith('uu'):\n",
    "            continue\n",
    "        data.append(DataSample(filename, f, adj(f), None))\n",
    "    return data\n",
    "\n",
    "\n",
    "def load_dir_wrapper(path):\n",
    "    data = load_dir(path)\n",
    "    return [SampleWrapper(ptype, sample) for sample in data]\n",
    "\n",
    "\n",
    "def init_tensor_wrapper(sample_wrapper, device):\n",
    "    return (sample_wrapper.ptype, init_tensors(sample_wrapper.sample, device))"
   ]
  },
  {
   "cell_type": "code",
   "execution_count": 3,
   "id": "ce36310d-36e4-453d-9e05-382232651612",
   "metadata": {},
   "outputs": [],
   "source": [
    "import numpy as np"
   ]
  },
  {
   "cell_type": "code",
   "execution_count": 29,
   "id": "6a2e758e-ed12-4dbc-a41b-49739e5d1b4d",
   "metadata": {},
   "outputs": [],
   "source": [
    "data = load_dir('../data/kcolor/3-5-0.5/')"
   ]
  },
  {
   "cell_type": "code",
   "execution_count": 5,
   "id": "d9514d11-a2ce-4c9d-b07f-4ebd10d7f557",
   "metadata": {},
   "outputs": [],
   "source": [
    "\n",
    "def adj_sign(n, m, occur):\n",
    "    i = np.repeat(range(n), [len(lst) for lst in occur])\n",
    "    j = np.concatenate(occur)\n",
    "    v = np.ones(len(i), dtype=np.int64)\n",
    "    return sparse.coo_matrix((v, (i, j)), shape=(n, m))\n",
    "\n",
    "\n",
    "def adj(f):\n",
    "    n, m, occur = f.n_variables, len(f.clauses), f.occur_list\n",
    "    adj_pos = adj_sign(n, m, occur[1 : n + 1])\n",
    "    adj_neg = adj_sign(n, m, occur[:n:-1])\n",
    "    return (adj_pos, adj_neg)\n",
    "\n",
    "\n",
    "def adj_batch(adjs, fstack):\n",
    "    adjp, adjn = list(zip(*adjs))\n",
    "    return fstack((sparse.block_diag(adjp), sparse.block_diag(adjn)))\n",
    "\n",
    "\n",
    "def to_sparse_tensor(x):\n",
    "    x = x.tocoo()\n",
    "    i = torch.tensor(np.vstack((x.row, x.col)), dtype=torch.int64)\n",
    "    v = torch.tensor(x.data, dtype=torch.float32)\n",
    "    return torch.sparse_coo_tensor(i, v, torch.Size(x.shape))\n",
    "\n",
    "\n",
    "def init_edge_attr(k):\n",
    "    return torch.cat(\n",
    "        (\n",
    "            torch.tensor([1, 0], dtype=torch.float32).expand(k, 2),\n",
    "            torch.tensor([0, 1], dtype=torch.float32).expand(k, 2),\n",
    "        ),\n",
    "        dim=0,\n",
    "    )\n",
    "\n",
    "\n",
    "def normalize(x):\n",
    "    return 2 * x - 1\n",
    "\n",
    "\n",
    "def unnormalize(x):\n",
    "    return (x + 1) / 2\n"
   ]
  },
  {
   "cell_type": "code",
   "execution_count": 9,
   "id": "dd90a285-2e72-4220-866d-98d27b497889",
   "metadata": {},
   "outputs": [
    {
     "data": {
      "text/plain": [
       "(15, 41)"
      ]
     },
     "execution_count": 9,
     "metadata": {},
     "output_type": "execute_result"
    }
   ],
   "source": [
    "data.formula.n_variables, len(data.formula.clauses)"
   ]
  },
  {
   "cell_type": "code",
   "execution_count": 59,
   "id": "f63557b1-3ba5-4f79-913b-ec78ca0f2b73",
   "metadata": {},
   "outputs": [
    {
     "data": {
      "text/plain": [
       "\u001b[0;31mSignature:\u001b[0m \u001b[0mCNF\u001b[0m\u001b[0;34m.\u001b[0m\u001b[0mfrom_file\u001b[0m\u001b[0;34m(\u001b[0m\u001b[0mfilename\u001b[0m\u001b[0;34m)\u001b[0m\u001b[0;34m\u001b[0m\u001b[0;34m\u001b[0m\u001b[0m\n",
       "\u001b[0;31mDocstring:\u001b[0m <no docstring>\n",
       "\u001b[0;31mFile:\u001b[0m      ~/Code/class/research/sat/code/cnf.py\n",
       "\u001b[0;31mType:\u001b[0m      method"
      ]
     },
     "metadata": {},
     "output_type": "display_data"
    }
   ],
   "source": [
    "CNF.from_file?"
   ]
  },
  {
   "cell_type": "code",
   "execution_count": 31,
   "id": "ee555431-9bad-4c33-ba85-9a46bce6c0ce",
   "metadata": {},
   "outputs": [],
   "source": [
    "def init_tensors(sample, device):\n",
    "    # [1,0,0] -> assigned False\n",
    "    # [0,1,0] -> assigned True\n",
    "    # [0,0,1] -> clause\n",
    "    adj = sample.adj\n",
    "    n, m = adj[0].shape[0], adj[0].shape[1]\n",
    "    xv = torch.zeros(n, 3, dtype=torch.float32)\n",
    "    sol = [x if random.random() < 0.5 else -x for x in range(n + 1)]\n",
    "    xv[torch.arange(n), (torch.tensor(sol[1:]) > 0).long()] = 1\n",
    "    xv = xv.to(device)\n",
    "    xc = torch.tensor([0, 0, 1], dtype=torch.float32).repeat(m, 1).to(device)\n",
    "    xev = init_edge_attr(n).to(device)\n",
    "    xec = init_edge_attr(m).to(device)\n",
    "    vadj = to_sparse_tensor(sparse.hstack(adj)).to(device)\n",
    "    cadj = to_sparse_tensor(sparse.vstack(adj)).t().to(device)\n",
    "    return Batch((xv, xc, xev, xec), (vadj, cadj), sol)\n"
   ]
  },
  {
   "cell_type": "code",
   "execution_count": 32,
   "id": "e9843017-3974-49b3-a19f-ed27fcf42865",
   "metadata": {},
   "outputs": [],
   "source": [
    "device = torch.device(\"cuda:0\" if torch.cuda.is_available() else \"cpu\")\n"
   ]
  },
  {
   "cell_type": "code",
   "execution_count": 33,
   "id": "b63b47a4-cbe3-4cf8-ad3a-96d854a82b66",
   "metadata": {},
   "outputs": [],
   "source": [
    "tensor = init_tensors(data[49], device)"
   ]
  },
  {
   "cell_type": "code",
   "execution_count": 79,
   "id": "26ccddc7-277b-4ab5-87c2-b849c68968b7",
   "metadata": {},
   "outputs": [
    {
     "data": {
      "text/plain": [
       "(<15x32 sparse matrix of type '<class 'numpy.int64'>'\n",
       " \twith 15 stored elements in COOrdinate format>,\n",
       " <15x32 sparse matrix of type '<class 'numpy.int64'>'\n",
       " \twith 54 stored elements in COOrdinate format>)"
      ]
     },
     "execution_count": 79,
     "metadata": {},
     "output_type": "execute_result"
    }
   ],
   "source": [
    "data[49].adj"
   ]
  },
  {
   "cell_type": "code",
   "execution_count": 95,
   "id": "c050f25e-393c-42b4-9cd3-dfb8e1f9f294",
   "metadata": {},
   "outputs": [
    {
     "data": {
      "text/plain": [
       "(tensor(indices=tensor([[ 0,  1,  2,  3,  4,  5,  6,  7,  8,  9, 10, 11, 12, 13,\n",
       "                         14,  0,  0,  0,  1,  1,  1,  2,  2,  2,  3,  3,  3,  3,\n",
       "                          4,  4,  4,  4,  5,  5,  5,  5,  6,  6,  6,  6,  6,  7,\n",
       "                          7,  7,  7,  7,  8,  8,  8,  8,  8,  9,  9,  9,  9, 10,\n",
       "                         10, 10, 10, 11, 11, 11, 11, 12, 12, 13, 13, 14, 14],\n",
       "                        [ 0,  0,  0,  1,  1,  1,  2,  2,  2,  3,  3,  3,  4,  4,\n",
       "                          4, 37, 38, 52, 37, 39, 53, 38, 39, 54, 40, 41, 55, 58,\n",
       "                         40, 42, 56, 59, 41, 42, 57, 60, 43, 44, 52, 55, 61, 43,\n",
       "                         45, 53, 56, 62, 44, 45, 54, 57, 63, 46, 47, 58, 61, 46,\n",
       "                         48, 59, 62, 47, 48, 60, 63, 49, 50, 49, 51, 50, 51]]),\n",
       "        values=tensor([1., 1., 1., 1., 1., 1., 1., 1., 1., 1., 1., 1., 1., 1.,\n",
       "                       1., 1., 1., 1., 1., 1., 1., 1., 1., 1., 1., 1., 1., 1.,\n",
       "                       1., 1., 1., 1., 1., 1., 1., 1., 1., 1., 1., 1., 1., 1.,\n",
       "                       1., 1., 1., 1., 1., 1., 1., 1., 1., 1., 1., 1., 1., 1.,\n",
       "                       1., 1., 1., 1., 1., 1., 1., 1., 1., 1., 1., 1., 1.]),\n",
       "        size=(15, 64), nnz=69, layout=torch.sparse_coo),\n",
       " tensor(indices=tensor([[ 0,  0,  0,  1,  1,  1,  2,  2,  2,  3,  3,  3,  4,  4,\n",
       "                          4,  5,  6, 20,  5,  7, 21,  6,  7, 22,  8,  9, 23, 26,\n",
       "                          8, 10, 24, 27,  9, 10, 25, 28, 11, 12, 20, 23, 29, 11,\n",
       "                         13, 21, 24, 30, 12, 13, 22, 25, 31, 14, 15, 26, 29, 14,\n",
       "                         16, 27, 30, 15, 16, 28, 31, 17, 18, 17, 19, 18, 19],\n",
       "                        [ 0,  1,  2,  3,  4,  5,  6,  7,  8,  9, 10, 11, 12, 13,\n",
       "                         14, 15, 15, 15, 16, 16, 16, 17, 17, 17, 18, 18, 18, 18,\n",
       "                         19, 19, 19, 19, 20, 20, 20, 20, 21, 21, 21, 21, 21, 22,\n",
       "                         22, 22, 22, 22, 23, 23, 23, 23, 23, 24, 24, 24, 24, 25,\n",
       "                         25, 25, 25, 26, 26, 26, 26, 27, 27, 28, 28, 29, 29]]),\n",
       "        values=tensor([1., 1., 1., 1., 1., 1., 1., 1., 1., 1., 1., 1., 1., 1.,\n",
       "                       1., 1., 1., 1., 1., 1., 1., 1., 1., 1., 1., 1., 1., 1.,\n",
       "                       1., 1., 1., 1., 1., 1., 1., 1., 1., 1., 1., 1., 1., 1.,\n",
       "                       1., 1., 1., 1., 1., 1., 1., 1., 1., 1., 1., 1., 1., 1.,\n",
       "                       1., 1., 1., 1., 1., 1., 1., 1., 1., 1., 1., 1., 1.]),\n",
       "        size=(32, 30), nnz=69, layout=torch.sparse_coo))"
      ]
     },
     "execution_count": 95,
     "metadata": {},
     "output_type": "execute_result"
    }
   ],
   "source": [
    "tensor.adj"
   ]
  },
  {
   "cell_type": "code",
   "execution_count": null,
   "id": "b5bcd87e-726e-4266-bfe3-77cc467a8b4b",
   "metadata": {},
   "outputs": [],
   "source": []
  },
  {
   "cell_type": "code",
   "execution_count": 35,
   "id": "44cbd998-afb2-48d9-a6a0-85cbab828a0b",
   "metadata": {},
   "outputs": [
    {
     "data": {
      "text/plain": [
       "torch.Size([15, 64])"
      ]
     },
     "execution_count": 35,
     "metadata": {},
     "output_type": "execute_result"
    }
   ],
   "source": [
    "tensor.adj[0].shape  #clauses"
   ]
  },
  {
   "cell_type": "code",
   "execution_count": null,
   "id": "b06f80b7-7bd4-4636-9c20-ff2998883d06",
   "metadata": {},
   "outputs": [],
   "source": [
    "tensor.x[2].shape  #edge 1"
   ]
  },
  {
   "cell_type": "code",
   "execution_count": null,
   "id": "7df25025-d329-4b66-af01-56b6c97dcc88",
   "metadata": {},
   "outputs": [],
   "source": [
    "tensor.x[3].shape  #edge 2"
   ]
  },
  {
   "cell_type": "code",
   "execution_count": 60,
   "id": "fa33ffcb-0bb1-4d0d-8b13-e6ebf5af85d9",
   "metadata": {},
   "outputs": [
    {
     "data": {
      "text/plain": [
       "((tensor([[1., 0., 0.],\n",
       "          [1., 0., 0.],\n",
       "          [1., 0., 0.],\n",
       "          [1., 0., 0.],\n",
       "          [0., 1., 0.],\n",
       "          [1., 0., 0.],\n",
       "          [1., 0., 0.],\n",
       "          [0., 1., 0.],\n",
       "          [0., 1., 0.],\n",
       "          [0., 1., 0.],\n",
       "          [1., 0., 0.],\n",
       "          [1., 0., 0.],\n",
       "          [0., 1., 0.],\n",
       "          [1., 0., 0.],\n",
       "          [1., 0., 0.]]),\n",
       "  tensor([[0., 0., 1.],\n",
       "          [0., 0., 1.],\n",
       "          [0., 0., 1.],\n",
       "          [0., 0., 1.],\n",
       "          [0., 0., 1.],\n",
       "          [0., 0., 1.],\n",
       "          [0., 0., 1.],\n",
       "          [0., 0., 1.],\n",
       "          [0., 0., 1.],\n",
       "          [0., 0., 1.],\n",
       "          [0., 0., 1.],\n",
       "          [0., 0., 1.],\n",
       "          [0., 0., 1.],\n",
       "          [0., 0., 1.],\n",
       "          [0., 0., 1.],\n",
       "          [0., 0., 1.],\n",
       "          [0., 0., 1.],\n",
       "          [0., 0., 1.],\n",
       "          [0., 0., 1.],\n",
       "          [0., 0., 1.],\n",
       "          [0., 0., 1.],\n",
       "          [0., 0., 1.],\n",
       "          [0., 0., 1.],\n",
       "          [0., 0., 1.],\n",
       "          [0., 0., 1.],\n",
       "          [0., 0., 1.],\n",
       "          [0., 0., 1.],\n",
       "          [0., 0., 1.],\n",
       "          [0., 0., 1.],\n",
       "          [0., 0., 1.],\n",
       "          [0., 0., 1.],\n",
       "          [0., 0., 1.]]),\n",
       "  tensor([[1., 0.],\n",
       "          [1., 0.],\n",
       "          [1., 0.],\n",
       "          [1., 0.],\n",
       "          [1., 0.],\n",
       "          [1., 0.],\n",
       "          [1., 0.],\n",
       "          [1., 0.],\n",
       "          [1., 0.],\n",
       "          [1., 0.],\n",
       "          [1., 0.],\n",
       "          [1., 0.],\n",
       "          [1., 0.],\n",
       "          [1., 0.],\n",
       "          [1., 0.],\n",
       "          [0., 1.],\n",
       "          [0., 1.],\n",
       "          [0., 1.],\n",
       "          [0., 1.],\n",
       "          [0., 1.],\n",
       "          [0., 1.],\n",
       "          [0., 1.],\n",
       "          [0., 1.],\n",
       "          [0., 1.],\n",
       "          [0., 1.],\n",
       "          [0., 1.],\n",
       "          [0., 1.],\n",
       "          [0., 1.],\n",
       "          [0., 1.],\n",
       "          [0., 1.]]),\n",
       "  tensor([[1., 0.],\n",
       "          [1., 0.],\n",
       "          [1., 0.],\n",
       "          [1., 0.],\n",
       "          [1., 0.],\n",
       "          [1., 0.],\n",
       "          [1., 0.],\n",
       "          [1., 0.],\n",
       "          [1., 0.],\n",
       "          [1., 0.],\n",
       "          [1., 0.],\n",
       "          [1., 0.],\n",
       "          [1., 0.],\n",
       "          [1., 0.],\n",
       "          [1., 0.],\n",
       "          [1., 0.],\n",
       "          [1., 0.],\n",
       "          [1., 0.],\n",
       "          [1., 0.],\n",
       "          [1., 0.],\n",
       "          [1., 0.],\n",
       "          [1., 0.],\n",
       "          [1., 0.],\n",
       "          [1., 0.],\n",
       "          [1., 0.],\n",
       "          [1., 0.],\n",
       "          [1., 0.],\n",
       "          [1., 0.],\n",
       "          [1., 0.],\n",
       "          [1., 0.],\n",
       "          [1., 0.],\n",
       "          [1., 0.],\n",
       "          [0., 1.],\n",
       "          [0., 1.],\n",
       "          [0., 1.],\n",
       "          [0., 1.],\n",
       "          [0., 1.],\n",
       "          [0., 1.],\n",
       "          [0., 1.],\n",
       "          [0., 1.],\n",
       "          [0., 1.],\n",
       "          [0., 1.],\n",
       "          [0., 1.],\n",
       "          [0., 1.],\n",
       "          [0., 1.],\n",
       "          [0., 1.],\n",
       "          [0., 1.],\n",
       "          [0., 1.],\n",
       "          [0., 1.],\n",
       "          [0., 1.],\n",
       "          [0., 1.],\n",
       "          [0., 1.],\n",
       "          [0., 1.],\n",
       "          [0., 1.],\n",
       "          [0., 1.],\n",
       "          [0., 1.],\n",
       "          [0., 1.],\n",
       "          [0., 1.],\n",
       "          [0., 1.],\n",
       "          [0., 1.],\n",
       "          [0., 1.],\n",
       "          [0., 1.],\n",
       "          [0., 1.],\n",
       "          [0., 1.]])),\n",
       " (tensor(indices=tensor([[ 0,  1,  2,  3,  4,  5,  6,  7,  8,  9, 10, 11, 12, 13,\n",
       "                          14,  0,  0,  0,  1,  1,  1,  2,  2,  2,  3,  3,  3,  3,\n",
       "                           4,  4,  4,  4,  5,  5,  5,  5,  6,  6,  6,  6,  6,  7,\n",
       "                           7,  7,  7,  7,  8,  8,  8,  8,  8,  9,  9,  9,  9, 10,\n",
       "                          10, 10, 10, 11, 11, 11, 11, 12, 12, 13, 13, 14, 14],\n",
       "                         [ 0,  0,  0,  1,  1,  1,  2,  2,  2,  3,  3,  3,  4,  4,\n",
       "                           4, 37, 38, 52, 37, 39, 53, 38, 39, 54, 40, 41, 55, 58,\n",
       "                          40, 42, 56, 59, 41, 42, 57, 60, 43, 44, 52, 55, 61, 43,\n",
       "                          45, 53, 56, 62, 44, 45, 54, 57, 63, 46, 47, 58, 61, 46,\n",
       "                          48, 59, 62, 47, 48, 60, 63, 49, 50, 49, 51, 50, 51]]),\n",
       "         values=tensor([1., 1., 1., 1., 1., 1., 1., 1., 1., 1., 1., 1., 1., 1.,\n",
       "                        1., 1., 1., 1., 1., 1., 1., 1., 1., 1., 1., 1., 1., 1.,\n",
       "                        1., 1., 1., 1., 1., 1., 1., 1., 1., 1., 1., 1., 1., 1.,\n",
       "                        1., 1., 1., 1., 1., 1., 1., 1., 1., 1., 1., 1., 1., 1.,\n",
       "                        1., 1., 1., 1., 1., 1., 1., 1., 1., 1., 1., 1., 1.]),\n",
       "         size=(15, 64), nnz=69, layout=torch.sparse_coo),\n",
       "  tensor(indices=tensor([[ 0,  0,  0,  1,  1,  1,  2,  2,  2,  3,  3,  3,  4,  4,\n",
       "                           4,  5,  6, 20,  5,  7, 21,  6,  7, 22,  8,  9, 23, 26,\n",
       "                           8, 10, 24, 27,  9, 10, 25, 28, 11, 12, 20, 23, 29, 11,\n",
       "                          13, 21, 24, 30, 12, 13, 22, 25, 31, 14, 15, 26, 29, 14,\n",
       "                          16, 27, 30, 15, 16, 28, 31, 17, 18, 17, 19, 18, 19],\n",
       "                         [ 0,  1,  2,  3,  4,  5,  6,  7,  8,  9, 10, 11, 12, 13,\n",
       "                          14, 15, 15, 15, 16, 16, 16, 17, 17, 17, 18, 18, 18, 18,\n",
       "                          19, 19, 19, 19, 20, 20, 20, 20, 21, 21, 21, 21, 21, 22,\n",
       "                          22, 22, 22, 22, 23, 23, 23, 23, 23, 24, 24, 24, 24, 25,\n",
       "                          25, 25, 25, 26, 26, 26, 26, 27, 27, 28, 28, 29, 29]]),\n",
       "         values=tensor([1., 1., 1., 1., 1., 1., 1., 1., 1., 1., 1., 1., 1., 1.,\n",
       "                        1., 1., 1., 1., 1., 1., 1., 1., 1., 1., 1., 1., 1., 1.,\n",
       "                        1., 1., 1., 1., 1., 1., 1., 1., 1., 1., 1., 1., 1., 1.,\n",
       "                        1., 1., 1., 1., 1., 1., 1., 1., 1., 1., 1., 1., 1., 1.,\n",
       "                        1., 1., 1., 1., 1., 1., 1., 1., 1., 1., 1., 1., 1.]),\n",
       "         size=(32, 30), nnz=69, layout=torch.sparse_coo)))"
      ]
     },
     "execution_count": 60,
     "metadata": {},
     "output_type": "execute_result"
    }
   ],
   "source": [
    "tensor[:2]"
   ]
  },
  {
   "cell_type": "code",
   "execution_count": 72,
   "id": "3f609d8f-afbf-493c-847c-8b97b31ee0b7",
   "metadata": {},
   "outputs": [
    {
     "data": {
      "text/plain": [
       "'id=103_n=5_p=0.5_k=3.cnf'"
      ]
     },
     "execution_count": 72,
     "metadata": {},
     "output_type": "execute_result"
    }
   ],
   "source": [
    "data[0].filename"
   ]
  }
 ],
 "metadata": {
  "kernelspec": {
   "display_name": "Python 3 (ipykernel)",
   "language": "python",
   "name": "python3"
  },
  "language_info": {
   "codemirror_mode": {
    "name": "ipython",
    "version": 3
   },
   "file_extension": ".py",
   "mimetype": "text/x-python",
   "name": "python",
   "nbconvert_exporter": "python",
   "pygments_lexer": "ipython3",
   "version": "3.11.5"
  }
 },
 "nbformat": 4,
 "nbformat_minor": 5
}
