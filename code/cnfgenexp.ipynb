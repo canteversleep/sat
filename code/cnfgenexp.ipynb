{
 "cells": [
  {
   "cell_type": "code",
   "execution_count": 5,
   "id": "229200f3-0f8b-46fb-906f-47845bcd6951",
   "metadata": {},
   "outputs": [
    {
     "name": "stdout",
     "output_type": "stream",
     "text": [
      "p cnf 15 38\n",
      "1 2 3 4 5 0\n",
      "6 7 8 9 10 0\n",
      "11 12 13 14 15 0\n",
      "-1 -2 0\n",
      "-1 -3 0\n",
      "-1 -4 0\n",
      "-1 -5 0\n",
      "-2 -3 0\n",
      "-2 -4 0\n",
      "-2 -5 0\n",
      "-3 -4 0\n",
      "-3 -5 0\n",
      "-4 -5 0\n",
      "-6 -7 0\n",
      "-6 -8 0\n",
      "-6 -9 0\n",
      "-6 -10 0\n",
      "-7 -8 0\n",
      "-7 -9 0\n",
      "-7 -10 0\n",
      "-8 -9 0\n",
      "-8 -10 0\n",
      "-9 -10 0\n",
      "-11 -12 0\n",
      "-11 -13 0\n",
      "-11 -14 0\n",
      "-11 -15 0\n",
      "-12 -13 0\n",
      "-12 -14 0\n",
      "-12 -15 0\n",
      "-13 -14 0\n",
      "-13 -15 0\n",
      "-14 -15 0\n",
      "-1 -11 0\n",
      "-2 -12 0\n",
      "-3 -13 0\n",
      "-4 -14 0\n",
      "-5 -15 0\n"
     ]
    }
   ],
   "source": [
    "!cat './data/tmp.cnf'"
   ]
  },
  {
   "cell_type": "code",
   "execution_count": 6,
   "id": "b7bcff9c-5cc3-47d9-9361-cfa3b88e75dc",
   "metadata": {},
   "outputs": [],
   "source": [
    "import os\n",
    "import pdb\n",
    "import random\n",
    "from collections import namedtuple\n",
    "\n",
    "import scipy.sparse as sparse\n",
    "import torch\n",
    "\n",
    "from cnf import CNF\n",
    "from util import DataSample, adj, adj_batch, init_edge_attr, to_sparse_tensor\n",
    "\n",
    "Batch = namedtuple('Batch', ['x', 'adj', 'sol'])\n",
    "\n",
    "\n",
    "def load_dir(path):\n",
    "    data = []\n",
    "    for filename in os.listdir(path):\n",
    "        name, ext = os.path.splitext(filename)\n",
    "        if ext != '.cnf':\n",
    "            continue\n",
    "        f = CNF.from_file(os.path.join(path, filename))\n",
    "        if name.startswith('uu'):\n",
    "            continue\n",
    "        data.append(DataSample(filename, f, adj(f), None))\n",
    "    return data"
   ]
  },
  {
   "cell_type": "code",
   "execution_count": 7,
   "id": "ce36310d-36e4-453d-9e05-382232651612",
   "metadata": {},
   "outputs": [],
   "source": [
    "import numpy as np"
   ]
  },
  {
   "cell_type": "code",
   "execution_count": 8,
   "id": "6a2e758e-ed12-4dbc-a41b-49739e5d1b4d",
   "metadata": {},
   "outputs": [],
   "source": [
    "data =load_dir('data')[0]"
   ]
  },
  {
   "cell_type": "code",
   "execution_count": 9,
   "id": "d9514d11-a2ce-4c9d-b07f-4ebd10d7f557",
   "metadata": {},
   "outputs": [],
   "source": [
    "\n",
    "def adj_sign(n, m, occur):\n",
    "    i = np.repeat(range(n), [len(lst) for lst in occur])\n",
    "    j = np.concatenate(occur)\n",
    "    v = np.ones(len(i), dtype=np.int64)\n",
    "    return sparse.coo_matrix((v, (i, j)), shape=(n, m))\n",
    "\n",
    "\n",
    "def adj(f):\n",
    "    n, m, occur = f.n_variables, len(f.clauses), f.occur_list\n",
    "    adj_pos = adj_sign(n, m, occur[1 : n + 1])\n",
    "    adj_neg = adj_sign(n, m, occur[:n:-1])\n",
    "    return (adj_pos, adj_neg)\n",
    "\n",
    "\n",
    "def adj_batch(adjs, fstack):\n",
    "    adjp, adjn = list(zip(*adjs))\n",
    "    return fstack((sparse.block_diag(adjp), sparse.block_diag(adjn)))\n",
    "\n",
    "\n",
    "def to_sparse_tensor(x):\n",
    "    x = x.tocoo()\n",
    "    i = torch.tensor(np.vstack((x.row, x.col)), dtype=torch.int64)\n",
    "    v = torch.tensor(x.data, dtype=torch.float32)\n",
    "    return torch.sparse_coo_tensor(i, v, torch.Size(x.shape))\n",
    "\n",
    "\n",
    "def init_edge_attr(k):\n",
    "    return torch.cat(\n",
    "        (\n",
    "            torch.tensor([1, 0], dtype=torch.float32).expand(k, 2),\n",
    "            torch.tensor([0, 1], dtype=torch.float32).expand(k, 2),\n",
    "        ),\n",
    "        dim=0,\n",
    "    )\n",
    "\n",
    "\n",
    "def normalize(x):\n",
    "    return 2 * x - 1\n",
    "\n",
    "\n",
    "def unnormalize(x):\n",
    "    return (x + 1) / 2\n"
   ]
  },
  {
   "cell_type": "code",
   "execution_count": 13,
   "id": "dd90a285-2e72-4220-866d-98d27b497889",
   "metadata": {},
   "outputs": [
    {
     "data": {
      "text/plain": [
       "(15, 38)"
      ]
     },
     "execution_count": 13,
     "metadata": {},
     "output_type": "execute_result"
    }
   ],
   "source": [
    "data.adj[1].toarray().shape"
   ]
  },
  {
   "cell_type": "code",
   "execution_count": 71,
   "id": "f63557b1-3ba5-4f79-913b-ec78ca0f2b73",
   "metadata": {},
   "outputs": [
    {
     "data": {
      "text/plain": [
       "<15x38 sparse matrix of type '<class 'numpy.int64'>'\n",
       "\twith 70 stored elements in COOrdinate format>"
      ]
     },
     "execution_count": 71,
     "metadata": {},
     "output_type": "execute_result"
    }
   ],
   "source": []
  },
  {
   "cell_type": "code",
   "execution_count": 14,
   "id": "ee555431-9bad-4c33-ba85-9a46bce6c0ce",
   "metadata": {},
   "outputs": [],
   "source": [
    "def init_tensors(sample, device):\n",
    "    # [1,0,0] -> assigned False\n",
    "    # [0,1,0] -> assigned True\n",
    "    # [0,0,1] -> clause\n",
    "    adj = sample.adj\n",
    "    n, m = adj[0].shape[0], adj[0].shape[1]\n",
    "    xv = torch.zeros(n, 3, dtype=torch.float32)\n",
    "    sol = [x if random.random() < 0.5 else -x for x in range(n + 1)]\n",
    "    xv[torch.arange(n), (torch.tensor(sol[1:]) > 0).long()] = 1\n",
    "    xv = xv.to(device)\n",
    "    xc = torch.tensor([0, 0, 1], dtype=torch.float32).repeat(m, 1).to(device)\n",
    "    xev = init_edge_attr(n).to(device)\n",
    "    xec = init_edge_attr(m).to(device)\n",
    "    vadj = to_sparse_tensor(sparse.hstack(adj)).to(device)\n",
    "    cadj = to_sparse_tensor(sparse.vstack(adj)).t().to(device)\n",
    "    return Batch((xv, xc, xev, xec), (vadj, cadj), sol)\n"
   ]
  },
  {
   "cell_type": "code",
   "execution_count": 15,
   "id": "e9843017-3974-49b3-a19f-ed27fcf42865",
   "metadata": {},
   "outputs": [],
   "source": [
    "device = torch.device(\"cuda:0\" if torch.cuda.is_available() else \"cpu\")\n"
   ]
  },
  {
   "cell_type": "code",
   "execution_count": 16,
   "id": "b63b47a4-cbe3-4cf8-ad3a-96d854a82b66",
   "metadata": {},
   "outputs": [],
   "source": [
    "tensor = init_tensors(data, device)"
   ]
  },
  {
   "cell_type": "code",
   "execution_count": 35,
   "id": "c050f25e-393c-42b4-9cd3-dfb8e1f9f294",
   "metadata": {},
   "outputs": [
    {
     "data": {
      "text/plain": [
       "torch.Size([38, 3])"
      ]
     },
     "execution_count": 35,
     "metadata": {},
     "output_type": "execute_result"
    }
   ],
   "source": [
    "tensor.x[1]"
   ]
  },
  {
   "cell_type": "code",
   "execution_count": 94,
   "id": "44cbd998-afb2-48d9-a6a0-85cbab828a0b",
   "metadata": {},
   "outputs": [
    {
     "data": {
      "text/plain": [
       "torch.Size([38, 3])"
      ]
     },
     "execution_count": 94,
     "metadata": {},
     "output_type": "execute_result"
    }
   ],
   "source": [
    "tensor.x[1].shape  #clauses"
   ]
  },
  {
   "cell_type": "code",
   "execution_count": 95,
   "id": "b06f80b7-7bd4-4636-9c20-ff2998883d06",
   "metadata": {},
   "outputs": [
    {
     "data": {
      "text/plain": [
       "torch.Size([30, 2])"
      ]
     },
     "execution_count": 95,
     "metadata": {},
     "output_type": "execute_result"
    }
   ],
   "source": [
    "tensor.x[2].shape  #edge 1"
   ]
  },
  {
   "cell_type": "code",
   "execution_count": 96,
   "id": "7df25025-d329-4b66-af01-56b6c97dcc88",
   "metadata": {},
   "outputs": [
    {
     "data": {
      "text/plain": [
       "torch.Size([76, 2])"
      ]
     },
     "execution_count": 96,
     "metadata": {},
     "output_type": "execute_result"
    }
   ],
   "source": [
    "tensor.x[3].shape  #edge 2"
   ]
  },
  {
   "cell_type": "code",
   "execution_count": 103,
   "id": "fa33ffcb-0bb1-4d0d-8b13-e6ebf5af85d9",
   "metadata": {},
   "outputs": [
    {
     "data": {
      "text/plain": [
       "torch.Size([15, 76])"
      ]
     },
     "execution_count": 103,
     "metadata": {},
     "output_type": "execute_result"
    }
   ],
   "source": [
    "tensor.adj[0].shape"
   ]
  },
  {
   "cell_type": "code",
   "execution_count": 104,
   "id": "3f609d8f-afbf-493c-847c-8b97b31ee0b7",
   "metadata": {},
   "outputs": [
    {
     "data": {
      "text/plain": [
       "torch.Size([38, 30])"
      ]
     },
     "execution_count": 104,
     "metadata": {},
     "output_type": "execute_result"
    }
   ],
   "source": [
    "tensor.adj[1].shape"
   ]
  }
 ],
 "metadata": {
  "kernelspec": {
   "display_name": "Python 3 (ipykernel)",
   "language": "python",
   "name": "python3"
  },
  "language_info": {
   "codemirror_mode": {
    "name": "ipython",
    "version": 3
   },
   "file_extension": ".py",
   "mimetype": "text/x-python",
   "name": "python",
   "nbconvert_exporter": "python",
   "pygments_lexer": "ipython3",
   "version": "3.11.5"
  }
 },
 "nbformat": 4,
 "nbformat_minor": 5
}
